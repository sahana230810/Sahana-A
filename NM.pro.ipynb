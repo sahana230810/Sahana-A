# 1. Import Libraries
import pandas as pd
import numpy as np
import matplotlib.pyplot as plt
import seaborn as sns
from sklearn.model_selection import train_test_split, GridSearchCV
from sklearn.preprocessing import LabelEncoder, StandardScaler
from sklearn.ensemble import RandomForestClassifier
from xgboost import XGBClassifier
from sklearn.metrics import classification_report, confusion_matrix

# 2. Load Dataset
data = pd.read_csv("accident_data.csv")  # Replace with your actual path

# 3. Data Preprocessing
data.drop_duplicates(inplace=True)
data.fillna(method='ffill', inplace=True)

# Encoding categorical columns
cat_cols = ['weather', 'road_type', 'vehicle_type']
for col in cat_cols:
    data[col] = LabelEncoder().fit_transform(data[col])

# Normalize numerical features
scaler = StandardScaler()
num_cols = ['traffic_volume', 'temperature']
data[num_cols] = scaler.fit_transform(data[num_cols])

# 4. Feature Engineering
data['hour'] = pd.to_datetime(data['time']).dt.hour
data['day_of_week'] = pd.to_datetime(data['date']).dt.dayofweek

# 5. Define Features and Target
X = data[['hour', 'day_of_week', 'weather', 'road_type', 'traffic_volume']]
y = data['severity']  # Target: accident severity

# 6. Train-Test Split
X_train, X_test, y_train, y_test = train_test_split(X, y, test_size=0.2, stratify=y, random_state=42)

# 7. Model Training - Random Forest
rf = RandomForestClassifier()
rf.fit(X_train, y_train)
y_pred_rf = rf.predict(X_test)

# 8. Model Training - XGBoost
xgb = XGBClassifier(use_label_encoder=False, eval_metric='mlogloss')
xgb.fit(X_train, y_train)
y_pred_xgb = xgb.predict(X_test)

# 9. Evaluation
print("Random Forest Report:\n", classification_report(y_test, y_pred_rf))
print("XGBoost Report:\n", classification_report(y_test, y_pred_xgb))

# 10. Confusion Matrix
sns.heatmap(confusion_matrix(y_test, y_pred_rf), annot=True, fmt='d', cmap='Blues')
plt.title("Random Forest Confusion Matrix")
plt.show()

# 11. Feature Importance
feat_imp = pd.Series(rf.feature_importances_, index=X.columns)
feat_imp.sort_values().plot(kind='barh')
plt.title("Feature Importance - Random Forest")
plt.show()
